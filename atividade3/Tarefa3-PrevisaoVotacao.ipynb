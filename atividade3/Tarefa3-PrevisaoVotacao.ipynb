{
 "cells": [
  {
   "cell_type": "markdown",
   "metadata": {},
   "source": [
    "# Tarefa 3 - Previsão de Votação dos Deputados\n",
    "\n",
    "* Disciplina: Aprendizagem de Máquina\n",
    "\n",
    "* Professor: Leandro Marinho\n",
    "\n",
    "* Aluno: Fábio Fernando de Oliveira Silva"
   ]
  },
  {
   "cell_type": "code",
   "execution_count": 1,
   "metadata": {},
   "outputs": [],
   "source": [
    "import pandas as pd\n",
    "import numpy as np\n",
    "import seaborn as sns\n",
    "import matplotlib\n",
    "\n",
    "import matplotlib.pyplot as plt\n",
    "from scipy.stats import skew\n",
    "from scipy.stats.stats import pearsonr\n",
    "\n",
    "\n",
    "%config InlineBackend.figure_format = 'png' #set 'png' here when working on notebook\n",
    "%matplotlib inline"
   ]
  },
  {
   "cell_type": "markdown",
   "metadata": {},
   "source": [
    "Carregamento dos dados em um DataFrame pandas. Os dados foram dividido em treino e teste, onde os dados referentes ao ano de 2006 foram utilizados como treino, e os dados de 2010 como teste."
   ]
  },
  {
   "cell_type": "code",
   "execution_count": 2,
   "metadata": {},
   "outputs": [
    {
     "name": "stdout",
     "output_type": "stream",
     "text": [
      "# dados: 7330\n",
      "\n",
      "# dados treino: 3388\n",
      "# dados teste: 3942\n",
      "\n"
     ]
    }
   ],
   "source": [
    "read_data = pd.read_csv(\"data/eleicoes_2006_a_2010.csv\")\n",
    "\n",
    "train = read_data[read_data[\"ano\"] == 2006].copy()\n",
    "test = read_data[read_data[\"ano\"] == 2010].copy()\n",
    "\n",
    "all_data = pd.concat((train.loc[:,:],\n",
    "                      test.loc[:,:]))\n",
    "\n",
    "print(\"# dados: %d\\n\\n# dados treino: %d\\n# dados teste: %d\\n\" % (len(all_data), len(train), len(test)))"
   ]
  },
  {
   "cell_type": "code",
   "execution_count": 3,
   "metadata": {},
   "outputs": [
    {
     "data": {
      "text/html": [
       "<div>\n",
       "<style scoped>\n",
       "    .dataframe tbody tr th:only-of-type {\n",
       "        vertical-align: middle;\n",
       "    }\n",
       "\n",
       "    .dataframe tbody tr th {\n",
       "        vertical-align: top;\n",
       "    }\n",
       "\n",
       "    .dataframe thead th {\n",
       "        text-align: right;\n",
       "    }\n",
       "</style>\n",
       "<table border=\"1\" class=\"dataframe\">\n",
       "  <thead>\n",
       "    <tr style=\"text-align: right;\">\n",
       "      <th></th>\n",
       "      <th>ano</th>\n",
       "      <th>sequencial_candidato</th>\n",
       "      <th>nome</th>\n",
       "      <th>uf</th>\n",
       "      <th>partido</th>\n",
       "      <th>quantidade_doacoes</th>\n",
       "      <th>quantidade_doadores</th>\n",
       "      <th>total_receita</th>\n",
       "      <th>media_receita</th>\n",
       "      <th>recursos_de_outros_candidatos/comites</th>\n",
       "      <th>recursos_de_pessoas_fisicas</th>\n",
       "      <th>recursos_de_pessoas_juridicas</th>\n",
       "      <th>recursos_proprios</th>\n",
       "      <th>quantidade_despesas</th>\n",
       "      <th>quantidade_fornecedores</th>\n",
       "      <th>total_despesa</th>\n",
       "      <th>media_despesa</th>\n",
       "      <th>cargo</th>\n",
       "      <th>sexo</th>\n",
       "      <th>grau</th>\n",
       "      <th>estado_civil</th>\n",
       "      <th>ocupacao</th>\n",
       "      <th>votos</th>\n",
       "    </tr>\n",
       "  </thead>\n",
       "  <tbody>\n",
       "    <tr>\n",
       "      <th>0</th>\n",
       "      <td>2006</td>\n",
       "      <td>10001</td>\n",
       "      <td>JOSÉ LUIZ NOGUEIRA DE SOUSA</td>\n",
       "      <td>AP</td>\n",
       "      <td>PT</td>\n",
       "      <td>6</td>\n",
       "      <td>6</td>\n",
       "      <td>16600.00</td>\n",
       "      <td>2766.666667</td>\n",
       "      <td>NaN</td>\n",
       "      <td>9000.0</td>\n",
       "      <td>6300.00</td>\n",
       "      <td>1300.0</td>\n",
       "      <td>14</td>\n",
       "      <td>14</td>\n",
       "      <td>16583.60</td>\n",
       "      <td>1184.542857</td>\n",
       "      <td>DEPUTADO FEDERAL</td>\n",
       "      <td>MASCULINO</td>\n",
       "      <td>ENSINO MÉDIO COMPLETO</td>\n",
       "      <td>CASADO(A)</td>\n",
       "      <td>VEREADOR</td>\n",
       "      <td>8579</td>\n",
       "    </tr>\n",
       "    <tr>\n",
       "      <th>1</th>\n",
       "      <td>2006</td>\n",
       "      <td>10002</td>\n",
       "      <td>LOIVA DE OLIVEIRA</td>\n",
       "      <td>RO</td>\n",
       "      <td>PT</td>\n",
       "      <td>13</td>\n",
       "      <td>13</td>\n",
       "      <td>22826.00</td>\n",
       "      <td>1755.846154</td>\n",
       "      <td>6625.0</td>\n",
       "      <td>15000.0</td>\n",
       "      <td>1000.00</td>\n",
       "      <td>201.0</td>\n",
       "      <td>24</td>\n",
       "      <td>23</td>\n",
       "      <td>20325.99</td>\n",
       "      <td>883.738696</td>\n",
       "      <td>DEPUTADO FEDERAL</td>\n",
       "      <td>FEMININO</td>\n",
       "      <td>SUPERIOR COMPLETO</td>\n",
       "      <td>SOLTEIRO(A)</td>\n",
       "      <td>SERVIDOR PÚBLICO ESTADUAL</td>\n",
       "      <td>2757</td>\n",
       "    </tr>\n",
       "    <tr>\n",
       "      <th>2</th>\n",
       "      <td>2006</td>\n",
       "      <td>10002</td>\n",
       "      <td>MARIA DALVA DE SOUZA FIGUEIREDO</td>\n",
       "      <td>AP</td>\n",
       "      <td>PT</td>\n",
       "      <td>17</td>\n",
       "      <td>16</td>\n",
       "      <td>148120.80</td>\n",
       "      <td>9257.550000</td>\n",
       "      <td>2250.0</td>\n",
       "      <td>34150.0</td>\n",
       "      <td>62220.80</td>\n",
       "      <td>59500.0</td>\n",
       "      <td>123</td>\n",
       "      <td>108</td>\n",
       "      <td>146011.70</td>\n",
       "      <td>1351.960185</td>\n",
       "      <td>DEPUTADO FEDERAL</td>\n",
       "      <td>FEMININO</td>\n",
       "      <td>SUPERIOR COMPLETO</td>\n",
       "      <td>VIÚVO(A)</td>\n",
       "      <td>PEDAGOGO</td>\n",
       "      <td>17428</td>\n",
       "    </tr>\n",
       "    <tr>\n",
       "      <th>3</th>\n",
       "      <td>2006</td>\n",
       "      <td>10002</td>\n",
       "      <td>ROMALDO MILANI</td>\n",
       "      <td>MS</td>\n",
       "      <td>PRONA</td>\n",
       "      <td>6</td>\n",
       "      <td>6</td>\n",
       "      <td>3001.12</td>\n",
       "      <td>500.186667</td>\n",
       "      <td>NaN</td>\n",
       "      <td>1150.0</td>\n",
       "      <td>1101.12</td>\n",
       "      <td>750.0</td>\n",
       "      <td>8</td>\n",
       "      <td>8</td>\n",
       "      <td>3001.12</td>\n",
       "      <td>375.140000</td>\n",
       "      <td>DEPUTADO FEDERAL</td>\n",
       "      <td>MASCULINO</td>\n",
       "      <td>ENSINO MÉDIO INCOMPLETO</td>\n",
       "      <td>CASADO(A)</td>\n",
       "      <td>MILITAR REFORMADO</td>\n",
       "      <td>1193</td>\n",
       "    </tr>\n",
       "    <tr>\n",
       "      <th>4</th>\n",
       "      <td>2006</td>\n",
       "      <td>10003</td>\n",
       "      <td>ANSELMO DE JESUS ABREU</td>\n",
       "      <td>RO</td>\n",
       "      <td>PT</td>\n",
       "      <td>48</td>\n",
       "      <td>48</td>\n",
       "      <td>NaN</td>\n",
       "      <td>NaN</td>\n",
       "      <td>NaN</td>\n",
       "      <td>50878.0</td>\n",
       "      <td>NaN</td>\n",
       "      <td>68942.0</td>\n",
       "      <td>133</td>\n",
       "      <td>120</td>\n",
       "      <td>116416.64</td>\n",
       "      <td>970.138667</td>\n",
       "      <td>DEPUTADO FEDERAL</td>\n",
       "      <td>MASCULINO</td>\n",
       "      <td>ENSINO FUNDAMENTAL COMPLETO</td>\n",
       "      <td>CASADO(A)</td>\n",
       "      <td>DEPUTADO</td>\n",
       "      <td>29401</td>\n",
       "    </tr>\n",
       "  </tbody>\n",
       "</table>\n",
       "</div>"
      ],
      "text/plain": [
       "    ano  sequencial_candidato                             nome  uf  ...                           grau  estado_civil                   ocupacao  votos\n",
       "0  2006                 10001      JOSÉ LUIZ NOGUEIRA DE SOUSA  AP  ...          ENSINO MÉDIO COMPLETO     CASADO(A)                   VEREADOR   8579\n",
       "1  2006                 10002                LOIVA DE OLIVEIRA  RO  ...              SUPERIOR COMPLETO   SOLTEIRO(A)  SERVIDOR PÚBLICO ESTADUAL   2757\n",
       "2  2006                 10002  MARIA DALVA DE SOUZA FIGUEIREDO  AP  ...              SUPERIOR COMPLETO      VIÚVO(A)                   PEDAGOGO  17428\n",
       "3  2006                 10002                   ROMALDO MILANI  MS  ...        ENSINO MÉDIO INCOMPLETO     CASADO(A)          MILITAR REFORMADO   1193\n",
       "4  2006                 10003           ANSELMO DE JESUS ABREU  RO  ...    ENSINO FUNDAMENTAL COMPLETO     CASADO(A)                   DEPUTADO  29401\n",
       "\n",
       "[5 rows x 23 columns]"
      ]
     },
     "execution_count": 3,
     "metadata": {},
     "output_type": "execute_result"
    }
   ],
   "source": [
    "all_data.head()"
   ]
  },
  {
   "cell_type": "markdown",
   "metadata": {},
   "source": [
    "Dados com NA"
   ]
  },
  {
   "cell_type": "code",
   "execution_count": 4,
   "metadata": {},
   "outputs": [
    {
     "name": "stdout",
     "output_type": "stream",
     "text": [
      "# dados NA: 5781\n",
      "\n",
      "# dados treino NA: 2823\n",
      "# dados teste NA: 2958\n"
     ]
    }
   ],
   "source": [
    "print(\"# dados NA: %d\\n\\n# dados treino NA: %d\\n# dados teste NA: %d\" % (len(all_data[all_data.isna().any(axis=1)]), len(train[train.isna().any(axis=1)]), len(test[test.isna().any(axis=1)])))"
   ]
  },
  {
   "cell_type": "markdown",
   "metadata": {},
   "source": [
    "Quantidade de NAs nos dados de treino, por coluna"
   ]
  },
  {
   "cell_type": "code",
   "execution_count": 5,
   "metadata": {},
   "outputs": [
    {
     "data": {
      "text/plain": [
       "ano                                         0\n",
       "sequencial_candidato                        0\n",
       "nome                                        0\n",
       "uf                                          0\n",
       "partido                                     0\n",
       "quantidade_doacoes                          0\n",
       "quantidade_doadores                         0\n",
       "total_receita                             161\n",
       "media_receita                             161\n",
       "recursos_de_outros_candidatos/comites    1509\n",
       "recursos_de_pessoas_fisicas              1244\n",
       "recursos_de_pessoas_juridicas            1736\n",
       "recursos_proprios                        1008\n",
       "quantidade_despesas                         0\n",
       "quantidade_fornecedores                     0\n",
       "total_despesa                               0\n",
       "media_despesa                               0\n",
       "cargo                                       0\n",
       "sexo                                        0\n",
       "grau                                        0\n",
       "estado_civil                                0\n",
       "ocupacao                                    0\n",
       "votos                                       0\n",
       "dtype: int64"
      ]
     },
     "execution_count": 5,
     "metadata": {},
     "output_type": "execute_result"
    }
   ],
   "source": [
    "train.isna().sum()"
   ]
  },
  {
   "cell_type": "markdown",
   "metadata": {},
   "source": [
    "Quantidade de NAs nos dados de teste, por coluna"
   ]
  },
  {
   "cell_type": "code",
   "execution_count": 6,
   "metadata": {},
   "outputs": [
    {
     "data": {
      "text/plain": [
       "ano                                         0\n",
       "sequencial_candidato                        0\n",
       "nome                                        0\n",
       "uf                                          0\n",
       "partido                                     0\n",
       "quantidade_doacoes                          0\n",
       "quantidade_doadores                         0\n",
       "total_receita                               0\n",
       "media_receita                               0\n",
       "recursos_de_outros_candidatos/comites     881\n",
       "recursos_de_pessoas_fisicas              1439\n",
       "recursos_de_pessoas_juridicas            2240\n",
       "recursos_proprios                        1380\n",
       "quantidade_despesas                         0\n",
       "quantidade_fornecedores                     0\n",
       "total_despesa                               0\n",
       "media_despesa                               0\n",
       "cargo                                       0\n",
       "sexo                                        0\n",
       "grau                                        0\n",
       "estado_civil                                0\n",
       "ocupacao                                    0\n",
       "votos                                       0\n",
       "dtype: int64"
      ]
     },
     "execution_count": 6,
     "metadata": {},
     "output_type": "execute_result"
    }
   ],
   "source": [
    "test.isna().sum()"
   ]
  },
  {
   "cell_type": "markdown",
   "metadata": {},
   "source": [
    "Para resolver os NAs nas colunas de total & média de receita, irei verificar quais candidatos em 2010 também estavam em 2006. Irei repetir, então, em 2006 (que contém NAs) os dados de 2010."
   ]
  },
  {
   "cell_type": "code",
   "execution_count": 7,
   "metadata": {},
   "outputs": [],
   "source": [
    "for index, row in train[train['total_receita'].isnull()].iterrows():\n",
    "    for index_test, row_test in test[test['nome'] == row['nome']].iterrows():\n",
    "        if row_test['nome'] == row['nome'] and row_test['uf'] == row['uf']:\n",
    "            train.loc[index, 'total_receita'] = row_test['total_receita']\n",
    "            train.loc[index, 'media_receita'] = row_test['media_receita']\n",
    "\n",
    "drop_list = [\n",
    "    \"nome\",\n",
    "    \"sequencial_candidato\",\n",
    "    \"uf\",\n",
    "    \"recursos_de_outros_candidatos/comites\",\n",
    "    \"recursos_de_pessoas_fisicas\",\n",
    "    \"recursos_de_pessoas_juridicas\",\n",
    "    \"recursos_proprios\",\n",
    "    \"quantidade_fornecedores\",\n",
    "    \"quantidade_despesas\",\n",
    "    \"ocupacao\",\n",
    "    \"partido\",\n",
    "    \"sexo\",\n",
    "    \"estado_civil\"\n",
    "]\n",
    "\n",
    "all_data = all_data.drop(columns=drop_list)\n",
    "train = train.drop(columns=drop_list)\n",
    "test = test.drop(columns=drop_list)"
   ]
  },
  {
   "cell_type": "code",
   "execution_count": 8,
   "metadata": {},
   "outputs": [
    {
     "data": {
      "text/plain": [
       "ano                      0\n",
       "quantidade_doacoes       0\n",
       "quantidade_doadores      0\n",
       "total_receita          101\n",
       "media_receita          101\n",
       "total_despesa            0\n",
       "media_despesa            0\n",
       "cargo                    0\n",
       "grau                     0\n",
       "votos                    0\n",
       "dtype: int64"
      ]
     },
     "execution_count": 8,
     "metadata": {},
     "output_type": "execute_result"
    }
   ],
   "source": [
    "train.isna().sum()"
   ]
  },
  {
   "cell_type": "markdown",
   "metadata": {},
   "source": [
    "Após o processamento descrito acima, a quantidade de NAs nas colunas total_receita e media_receita reduziu de 161 para 101. Agora, vamos ver o enviezamento das variáveis dos dados."
   ]
  },
  {
   "cell_type": "code",
   "execution_count": 9,
   "metadata": {},
   "outputs": [
    {
     "data": {
      "text/plain": [
       "ano                    -0.151624\n",
       "quantidade_doacoes     39.982260\n",
       "quantidade_doadores    37.541762\n",
       "total_receita           4.599988\n",
       "media_receita          12.105833\n",
       "total_despesa           4.534959\n",
       "media_despesa          66.379222\n",
       "votos                   6.669571\n",
       "dtype: float64"
      ]
     },
     "execution_count": 9,
     "metadata": {},
     "output_type": "execute_result"
    }
   ],
   "source": [
    "all_data.skew()"
   ]
  },
  {
   "cell_type": "code",
   "execution_count": 10,
   "metadata": {},
   "outputs": [
    {
     "data": {
      "text/plain": [
       "array([[<matplotlib.axes._subplots.AxesSubplot object at 0x7fc0545f4c50>,\n",
       "        <matplotlib.axes._subplots.AxesSubplot object at 0x7fc04da1bf98>]],\n",
       "      dtype=object)"
      ]
     },
     "execution_count": 10,
     "metadata": {},
     "output_type": "execute_result"
    },
    {
     "data": {
      "image/png": "[encoded data removed]",
      "text/plain": [
       "<Figure size 864x432 with 2 Axes>"
      ]
     },
     "metadata": {
      "needs_background": "light"
     },
     "output_type": "display_data"
    }
   ],
   "source": [
    "matplotlib.rcParams['figure.figsize'] = (12.0, 6.0)\n",
    "votos = pd.DataFrame({\"votos\":train[\"votos\"], \"log(votos + 1)\":np.log1p(train[\"votos\"])})\n",
    "votos.hist()"
   ]
  },
  {
   "cell_type": "markdown",
   "metadata": {},
   "source": [
    "Agora será realizada uma transformação dos dados para reduzir o enviezamento dos dados."
   ]
  },
  {
   "cell_type": "code",
   "execution_count": 11,
   "metadata": {},
   "outputs": [],
   "source": [
    "train[\"votos\"] = np.log1p(train[\"votos\"])\n",
    "\n",
    "numeric_feats = all_data.dtypes[all_data.dtypes != \"object\"].index\n",
    "\n",
    "skewed_feats = train[numeric_feats].apply(lambda x: skew(x.dropna())) #compute skewness\n",
    "skewed_feats = skewed_feats[skewed_feats > 0.75]\n",
    "skewed_feats = skewed_feats.index\n",
    "\n",
    "all_data[skewed_feats] = np.log1p(all_data[skewed_feats])"
   ]
  },
  {
   "cell_type": "markdown",
   "metadata": {},
   "source": [
    "Checando agora o enviezamento"
   ]
  },
  {
   "cell_type": "code",
   "execution_count": 12,
   "metadata": {},
   "outputs": [
    {
     "data": {
      "text/plain": [
       "ano                   -0.151624\n",
       "quantidade_doacoes     0.678928\n",
       "quantidade_doadores    0.724712\n",
       "total_receita          0.077461\n",
       "media_receita          0.141654\n",
       "total_despesa          0.001470\n",
       "media_despesa         -0.382114\n",
       "votos                  6.669571\n",
       "dtype: float64"
      ]
     },
     "execution_count": 12,
     "metadata": {},
     "output_type": "execute_result"
    }
   ],
   "source": [
    "all_data.skew()"
   ]
  },
  {
   "cell_type": "code",
   "execution_count": 13,
   "metadata": {},
   "outputs": [],
   "source": [
    "all_data = pd.get_dummies(all_data)"
   ]
  },
  {
   "cell_type": "markdown",
   "metadata": {},
   "source": [
    "Preenchendo os NAs restantes com as médias das respectivas colunas."
   ]
  },
  {
   "cell_type": "code",
   "execution_count": 14,
   "metadata": {},
   "outputs": [],
   "source": [
    "all_data = all_data.fillna(all_data.mean())"
   ]
  },
  {
   "cell_type": "markdown",
   "metadata": {},
   "source": [
    "Criando matrizes para o SciKitLearn"
   ]
  },
  {
   "cell_type": "code",
   "execution_count": 15,
   "metadata": {},
   "outputs": [],
   "source": [
    "X_train = all_data[:train.shape[0]]\n",
    "X_test = all_data[train.shape[0]:]\n",
    "y = train.votos"
   ]
  },
  {
   "cell_type": "markdown",
   "metadata": {},
   "source": [
    "## Modelos\n",
    "\n",
    "Agora vamos construir modelos de regressão com Ridge e Lasso"
   ]
  },
  {
   "cell_type": "code",
   "execution_count": 16,
   "metadata": {},
   "outputs": [],
   "source": [
    "from sklearn.linear_model import Ridge, RidgeCV, ElasticNet, LassoCV, LassoLarsCV\n",
    "from sklearn.model_selection import cross_val_score\n",
    "\n",
    "def rmse_cv(model):\n",
    "    rmse= np.sqrt(-cross_val_score(model, X_train, y, scoring=\"neg_mean_squared_error\", cv = 5))\n",
    "    return(rmse)"
   ]
  },
  {
   "cell_type": "code",
   "execution_count": 17,
   "metadata": {},
   "outputs": [],
   "source": [
    "model_ridge = Ridge()"
   ]
  },
  {
   "cell_type": "markdown",
   "metadata": {},
   "source": [
    "Texto Ridge"
   ]
  },
  {
   "cell_type": "code",
   "execution_count": 18,
   "metadata": {},
   "outputs": [],
   "source": [
    "alphas = [0.05, 0.1, 0.3, 1, 3, 5, 10, 15, 30, 50, 75]\n",
    "cv_ridge = [rmse_cv(Ridge(alpha = alpha)).mean() \n",
    "            for alpha in alphas]"
   ]
  },
  {
   "cell_type": "code",
   "execution_count": 19,
   "metadata": {},
   "outputs": [
    {
     "data": {
      "text/plain": [
       "Text(55.625, 0.5, 'rmse')"
      ]
     },
     "execution_count": 19,
     "metadata": {},
     "output_type": "execute_result"
    },
    {
     "data": {
      "image/png": "[encoded data removed]",
      "text/plain": [
       "<Figure size 864x432 with 1 Axes>"
      ]
     },
     "metadata": {
      "needs_background": "light"
     },
     "output_type": "display_data"
    }
   ],
   "source": [
    "cv_ridge = pd.Series(cv_ridge, index = alphas)\n",
    "cv_ridge.plot(title = \"Validação\")\n",
    "plt.xlabel(\"alpha\")\n",
    "plt.ylabel(\"rmse\")"
   ]
  },
  {
   "cell_type": "markdown",
   "metadata": {},
   "source": [
    "Note the U-ish shaped curve above. When alpha is too large the regularization is too strong and the model cannot capture all the complexities in the data. If however we let the model be too flexible (alpha small) the model begins to overfit. A value of alpha = 10 is about right based on the plot above."
   ]
  },
  {
   "cell_type": "code",
   "execution_count": 20,
   "metadata": {},
   "outputs": [
    {
     "data": {
      "text/plain": [
       "0.9274406020432112"
      ]
     },
     "execution_count": 20,
     "metadata": {},
     "output_type": "execute_result"
    }
   ],
   "source": [
    "cv_ridge.min()"
   ]
  },
  {
   "cell_type": "markdown",
   "metadata": {},
   "source": [
    "So for the Ridge regression we get a rmsle of about 0.127\n",
    "\n",
    "Let' try out the Lasso model. We will do a slightly different approach here and use the built in Lasso CV to figure out the best alpha for us. For some reason the alphas in Lasso CV are really the inverse or the alphas in Ridge."
   ]
  },
  {
   "cell_type": "code",
   "execution_count": 21,
   "metadata": {},
   "outputs": [
    {
     "name": "stderr",
     "output_type": "stream",
     "text": [
      "/local/ffosilva/repos/ffosilva/machine-learning-classes/atividade3/.venv/lib/python3.7/site-packages/sklearn/model_selection/_split.py:1943: FutureWarning: You should specify a value for 'cv' instead of relying on the default value. The default value will change from 3 to 5 in version 0.22.\n",
      "  warnings.warn(CV_WARNING, FutureWarning)\n"
     ]
    }
   ],
   "source": [
    "model_lasso = LassoCV(alphas = [1, 0.1, 0.001, 0.0005]).fit(X_train, y)"
   ]
  },
  {
   "cell_type": "code",
   "execution_count": 22,
   "metadata": {},
   "outputs": [
    {
     "name": "stderr",
     "output_type": "stream",
     "text": [
      "/local/ffosilva/repos/ffosilva/machine-learning-classes/atividade3/.venv/lib/python3.7/site-packages/sklearn/model_selection/_split.py:1943: FutureWarning: You should specify a value for 'cv' instead of relying on the default value. The default value will change from 3 to 5 in version 0.22.\n",
      "  warnings.warn(CV_WARNING, FutureWarning)\n",
      "/local/ffosilva/repos/ffosilva/machine-learning-classes/atividade3/.venv/lib/python3.7/site-packages/sklearn/model_selection/_split.py:1943: FutureWarning: You should specify a value for 'cv' instead of relying on the default value. The default value will change from 3 to 5 in version 0.22.\n",
      "  warnings.warn(CV_WARNING, FutureWarning)\n",
      "/local/ffosilva/repos/ffosilva/machine-learning-classes/atividade3/.venv/lib/python3.7/site-packages/sklearn/model_selection/_split.py:1943: FutureWarning: You should specify a value for 'cv' instead of relying on the default value. The default value will change from 3 to 5 in version 0.22.\n",
      "  warnings.warn(CV_WARNING, FutureWarning)\n",
      "/local/ffosilva/repos/ffosilva/machine-learning-classes/atividade3/.venv/lib/python3.7/site-packages/sklearn/model_selection/_split.py:1943: FutureWarning: You should specify a value for 'cv' instead of relying on the default value. The default value will change from 3 to 5 in version 0.22.\n",
      "  warnings.warn(CV_WARNING, FutureWarning)\n",
      "/local/ffosilva/repos/ffosilva/machine-learning-classes/atividade3/.venv/lib/python3.7/site-packages/sklearn/model_selection/_split.py:1943: FutureWarning: You should specify a value for 'cv' instead of relying on the default value. The default value will change from 3 to 5 in version 0.22.\n",
      "  warnings.warn(CV_WARNING, FutureWarning)\n"
     ]
    },
    {
     "data": {
      "text/plain": [
       "0.9273005230501268"
      ]
     },
     "execution_count": 22,
     "metadata": {},
     "output_type": "execute_result"
    }
   ],
   "source": [
    "rmse_cv(model_lasso).mean()"
   ]
  },
  {
   "cell_type": "markdown",
   "metadata": {},
   "source": [
    "Nice! The lasso performs even better so we'll just use this one to predict on the test set. Another neat thing about the Lasso is that it does feature selection for you - setting coefficients of features it deems unimportant to zero. Let's take a look at the coefficients:"
   ]
  },
  {
   "cell_type": "code",
   "execution_count": 23,
   "metadata": {},
   "outputs": [],
   "source": [
    "coef = pd.Series(model_lasso.coef_, index = X_train.columns)"
   ]
  },
  {
   "cell_type": "code",
   "execution_count": 24,
   "metadata": {},
   "outputs": [
    {
     "name": "stdout",
     "output_type": "stream",
     "text": [
      "Lasso picked 11 variables and eliminated the other 5 variables\n"
     ]
    }
   ],
   "source": [
    "print(\"Lasso picked \" + str(sum(coef != 0)) + \" variables and eliminated the other \" +  str(sum(coef == 0)) + \" variables\")"
   ]
  },
  {
   "cell_type": "markdown",
   "metadata": {},
   "source": [
    "Good job Lasso. One thing to note here however is that the features selected are not necessarily the \"correct\" ones - especially since there are a lot of collinear features in this dataset. One idea to try here is run Lasso a few times on boostrapped samples and see how stable the feature selection is.\n",
    "We can also take a look directly at what the most important coefficients are:"
   ]
  },
  {
   "cell_type": "code",
   "execution_count": 25,
   "metadata": {},
   "outputs": [],
   "source": [
    "imp_coef = pd.concat([coef.sort_values().head(10),\n",
    "                     coef.sort_values().tail(10)])"
   ]
  },
  {
   "cell_type": "code",
   "execution_count": 26,
   "metadata": {},
   "outputs": [
    {
     "data": {
      "text/plain": [
       "Text(0.5, 1.0, 'Coefficients in the Lasso Model')"
      ]
     },
     "execution_count": 26,
     "metadata": {},
     "output_type": "execute_result"
    },
    {
     "data": {
      "image/png": "[encoded data removed]",
      "text/plain": [
       "<Figure size 576x720 with 1 Axes>"
      ]
     },
     "metadata": {
      "needs_background": "light"
     },
     "output_type": "display_data"
    }
   ],
   "source": [
    "matplotlib.rcParams['figure.figsize'] = (8.0, 10.0)\n",
    "imp_coef.plot(kind = \"barh\")\n",
    "plt.title(\"Coefficients in the Lasso Model\")"
   ]
  },
  {
   "cell_type": "markdown",
   "metadata": {},
   "source": [
    "The most important positive feature is GrLivArea - the above ground area by area square feet. This definitely sense. Then a few other location and quality features contributed positively. Some of the negative features make less sense and would be worth looking into more - it seems like they might come from unbalanced categorical variables.\n",
    "\n",
    "Also note that unlike the feature importance you'd get from a random forest these are actual coefficients in your model - so you can say precisely why the predicted price is what it is. The only issue here is that we log_transformed both the target and the numeric features so the actual magnitudes are a bit hard to interpret."
   ]
  },
  {
   "cell_type": "code",
   "execution_count": 27,
   "metadata": {},
   "outputs": [
    {
     "data": {
      "text/plain": [
       "<matplotlib.axes._subplots.AxesSubplot at 0x7fc017688780>"
      ]
     },
     "execution_count": 27,
     "metadata": {},
     "output_type": "execute_result"
    },
    {
     "data": {
      "image/png": "[encoded data removed]",
      "text/plain": [
       "<Figure size 432x432 with 1 Axes>"
      ]
     },
     "metadata": {
      "needs_background": "light"
     },
     "output_type": "display_data"
    }
   ],
   "source": [
    "#let's look at the residuals as well:\n",
    "matplotlib.rcParams['figure.figsize'] = (6.0, 6.0)\n",
    "\n",
    "preds = pd.DataFrame({\"preds\":model_lasso.predict(X_train), \"true\":y})\n",
    "preds[\"residuals\"] = preds[\"true\"] - preds[\"preds\"]\n",
    "preds.plot(x = \"preds\", y = \"residuals\",kind = \"scatter\")"
   ]
  }
 ],
 "metadata": {
  "kernelspec": {
   "display_name": "Python 3",
   "language": "python",
   "name": "python3"
  },
  "language_info": {
   "codemirror_mode": {
    "name": "ipython",
    "version": 3
   },
   "file_extension": ".py",
   "mimetype": "text/x-python",
   "name": "python",
   "nbconvert_exporter": "python",
   "pygments_lexer": "ipython3",
   "version": "3.7.0"
  }
 },
 "nbformat": 4,
 "nbformat_minor": 2
}
